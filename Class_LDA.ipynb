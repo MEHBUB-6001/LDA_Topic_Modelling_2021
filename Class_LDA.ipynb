{
  "nbformat": 4,
  "nbformat_minor": 0,
  "metadata": {
    "colab": {
      "name": "Class_LDA.ipynb",
      "provenance": [],
      "collapsed_sections": [],
      "authorship_tag": "ABX9TyPlQQqCzKmq649KXcc5L7My",
      "include_colab_link": true
    },
    "kernelspec": {
      "display_name": "Python 3",
      "name": "python3"
    },
    "language_info": {
      "name": "python"
    }
  },
  "cells": [
    {
      "cell_type": "markdown",
      "metadata": {
        "id": "view-in-github",
        "colab_type": "text"
      },
      "source": [
        "<a href=\"https://colab.research.google.com/github/MEHBUB-6001/LDA_Topic_Modelling_2021/blob/main/Class_LDA.ipynb\" target=\"_parent\"><img src=\"https://colab.research.google.com/assets/colab-badge.svg\" alt=\"Open In Colab\"/></a>"
      ]
    },
    {
      "cell_type": "code",
      "metadata": {
        "id": "TgEDYSDyzV5J"
      },
      "source": [
        "import re\n",
        "import nltk\n",
        "import gensim\n",
        "import numpy as np\n",
        "import pandas as pd\n",
        "from nltk.stem.wordnet import WordNetLemmatizer\n",
        "from nltk.corpus import stopwords\n",
        "from sklearn.base import BaseEstimator\n",
        "from sklearn.datasets import fetch_20newsgroups\n",
        "from gensim import corpora\n",
        "from gensim.utils import simple_preprocess\n",
        "from gensim.models import CoherenceModel\n",
        "from gensim import models\n",
        "from matplotlib import pyplot as plt\n",
        "import warnings\n",
        "warnings.filterwarnings(\"ignore\",category=DeprecationWarning)\n",
        "nltk.download('wordnet')\n",
        "nltk.download('stopwords')\n",
        "nltk.download('punkt')"
      ],
      "execution_count": null,
      "outputs": []
    },
    {
      "cell_type": "code",
      "metadata": {
        "id": "79_nunsnzpka",
        "colab": {
          "base_uri": "https://localhost:8080/",
          "height": 413
        },
        "outputId": "63671998-da98-4a05-dc4b-1d68fe6a2171"
      },
      "source": [
        "class LDA_Topic(BaseEstimator):\n",
        "    def __init__(self,corpus=None,id2word=None,num_topics=10,random_state=100,num_iterations=100,chunksize=1000,update_every=1,passes=10,alpha='auto',per_word_topics=True):\n",
        "        self.num_topics = num_topics\n",
        "        self.num_iterations = num_iterations\n",
        "        self.random_state = random_state\n",
        "        self.passes=passes\n",
        "        self.chunksize=chunksize\n",
        "        self.update_every=update_every\n",
        "        self.alpha=alpha\n",
        "        self.per_word_topics=per_word_topics\n",
        "        self.corpus=corpus\n",
        "        self.id2word=id2word\n",
        "        self.model_fit=gensim.models.ldamodel.LdaModel(corpus=self.corpus,id2word=self.id2word,num_topics=self.num_topics,random_state=self.random_state,update_every=self.update_every,\n",
        "                          chunksize=self.chunksize,passes=self.passes,alpha=self.alpha,per_word_topics=self.per_word_topics)\n",
        "    @staticmethod\n",
        "    def create_dict_corpus(final_texts):\n",
        "        texts=final_texts\n",
        "        id2word = corpora.Dictionary(final_texts)\n",
        "        corpus = [id2word.doc2bow(text) for text in texts]\n",
        "        return (id2word,corpus)\n",
        "    @staticmethod\n",
        "    def clean_texts(texts_data):\n",
        "      texts_data = [re.sub(r'\\S*@\\S*\\s?', '', sent) for sent in texts_data] # removes all emails\n",
        "      texts_data = [re.sub(r'\\s+', ' ', sent) for sent in texts_data]  # remove new line characters\n",
        "      texts_data = [re.sub(r\"\\'\", \"\", sent) for sent in texts_data]  # remove distracting single quotes\n",
        "      texts_data = [re.sub(r'[^a-zA-Z]', ' ',sent) for sent in texts_data] # keep only characters  \n",
        "      texts_data = [re.sub(r'\\s+',' ',sent,flags=re.I) for sent in texts_data] #  Substituting multiple spaces with single space\n",
        "      return (texts_data)\n",
        "    @staticmethod\n",
        "    def sentence_to_words(sentences):\n",
        "      for sentence in sentences:\n",
        "        yield(gensim.utils.simple_preprocess(str(sentence), deacc=True))  # deacc=True removes punctuations\n",
        "    @staticmethod\n",
        "    def make_bigrams(texts):\n",
        "      bigram = gensim.models.Phrases(texts, min_count=5, threshold=100)\n",
        "      bigram_mod = gensim.models.phrases.Phraser(bigram)\n",
        "      return [bigram_mod[doc] for doc in texts]\n",
        "    @staticmethod\n",
        "    def remove_stopwords(texts):\n",
        "      return [[word for word in simple_preprocess(str(doc)) if word not in stopwords.words('english')] for doc in texts]\n",
        "    @staticmethod\n",
        "    def lemmatization(texts):\n",
        "      lemmatizer=WordNetLemmatizer()\n",
        "      Lemmatized_texts=[]\n",
        "      for i in range(len(texts)):\n",
        "         words=[lemmatizer.lemmatize(word) for word in texts[i]]\n",
        "         #words=\" \".join(words)\n",
        "         Lemmatized_texts.append(words)\n",
        "      return (Lemmatized_texts)\n",
        "    @classmethod\n",
        "    def compute_coherence_values(cls,corpus, id2word,Texts_lemmatized):\n",
        "      start=2; limit=40; step=6;\n",
        "      coherence_values = []\n",
        "      cls.corpus=corpus\n",
        "      cls.id2word=id2word\n",
        "      cls.Texts_lemmatized=Texts_lemmatized\n",
        "      model_list = []\n",
        "      for num_topics in range(start, limit, step):\n",
        "          model = gensim.models.ldamodel.LdaModel(corpus=cls.corpus, num_topics=num_topics,id2word=cls.id2word)\n",
        "          model_list.append(model)\n",
        "          coherencemodel = CoherenceModel(model,texts=cls.Texts_lemmatized,dictionary=cls.id2word, coherence='c_v')\n",
        "          coherence_values.append(coherencemodel.get_coherence())\n",
        "      return model_list, coherence_values\n",
        "    @staticmethod\n",
        "    def visualize_graphical_format(model_list,coherence_values):\n",
        "      limit=40; start=2; step=6;\n",
        "      x = range(start, limit, step)\n",
        "      plt.plot(x, coherence_values)\n",
        "      plt.xlabel(\"Topics Number\")\n",
        "      plt.ylabel(\"Coherence Score\")\n",
        "      plt.title('Select Optimal Model Based On Coherence Score')\n",
        "      plt.legend((\"Coherence_Values\"), loc='best')\n",
        "      plt.show()\n",
        "      for m, cv in zip(x, coherence_values):\n",
        "          print(\"Topics Number =\", m,\"----\", \"Coherence Value Is :\", round(cv,2))\n",
        "if __name__==\"__main__\":\n",
        "    Texts_Data=fetch_20newsgroups(subset='train', remove=('headers', 'footers', 'quotes')) # importing fetch_20newsgrops.\n",
        "    Texts_Data=Texts_Data.data #initialize data parts to a variable Texts_Data\n",
        "    texts=Texts_Data\n",
        "    Texts_Data=LDA_Topic.clean_texts(texts) #calling clean_texs method by using class object.\n",
        "    Text_words = list(LDA_Topic.sentence_to_words(Texts_Data)) #calling sentence_to_words method by using class object.\n",
        "    Text_words_nostopwords=LDA_Topic.remove_stopwords(Text_words) #calling remove_stopwords method by using class object.\n",
        "    Texts_word_bigram=LDA_Topic.make_bigrams(Text_words_nostopwords) # calling make_bigrams method by using class object.\n",
        "    Texts_lemmatized=LDA_Topic.lemmatization(Texts_word_bigram) #calling lemmatization method by using class object.\n",
        "    id2word,corpus=LDA_Topic.create_dict_corpus(Texts_lemmatized) #calling create_dict_corpus method by using class object.\n",
        "    # Doing Instantiation Of Class,which invoke __init__ method and initialize all parameters inside it.\n",
        "    LDA=LDA_Topic(corpus=corpus,id2word=id2word,num_topics=10,random_state=100,num_iterations=100,chunksize=1000, update_every=1, passes=10,alpha='auto',per_word_topics=True)\n",
        "    model_list, coherence_values = LDA_Topic.compute_coherence_values(corpus,id2word,Texts_lemmatized) #calling compute_coherence_values method by using class object.\n",
        "    LDA_Topic.visualize_graphical_format(model_list,coherence_values) #calling visualize_graphical_format method by using class object"
      ],
      "execution_count": 96,
      "outputs": [
        {
          "output_type": "display_data",
          "data": {
            "image/png": "[encoded data removed]",
            "text/plain": [
              "<Figure size 432x288 with 1 Axes>"
            ]
          },
          "metadata": {
            "needs_background": "light"
          }
        },
        {
          "output_type": "stream",
          "text": [
            "Topics Number = 2 ---- Coherence Value Is : 0.44\n",
            "Topics Number = 8 ---- Coherence Value Is : 0.58\n",
            "Topics Number = 14 ---- Coherence Value Is : 0.52\n",
            "Topics Number = 20 ---- Coherence Value Is : 0.59\n",
            "Topics Number = 26 ---- Coherence Value Is : 0.56\n",
            "Topics Number = 32 ---- Coherence Value Is : 0.56\n",
            "Topics Number = 38 ---- Coherence Value Is : 0.52\n"
          ],
          "name": "stdout"
        }
      ]
    },
    {
      "cell_type": "code",
      "metadata": {
        "colab": {
          "base_uri": "https://localhost:8080/"
        },
        "id": "hFFfnQKeKgEo",
        "outputId": "2377fdff-11ba-4f90-b38c-123ba56a948e"
      },
      "source": [
        "LDA.model_fit.print_topics()"
      ],
      "execution_count": 99,
      "outputs": [
        {
          "output_type": "execute_result",
          "data": {
            "text/plain": [
              "[(0,\n",
              "  '0.015*\"space\" + 0.010*\"entry\" + 0.006*\"launch\" + 0.006*\"mission\" + 0.005*\"file\" + 0.005*\"satellite\" + 0.005*\"program\" + 0.005*\"year\" + 0.004*\"shuttle\" + 0.004*\"mar\"'),\n",
              " (1,\n",
              "  '0.012*\"book\" + 0.004*\"space\" + 0.004*\"printer\" + 0.003*\"john\" + 0.003*\"page\" + 0.003*\"wiring\" + 0.003*\"cover\" + 0.003*\"copy\" + 0.003*\"plane\" + 0.003*\"st\"'),\n",
              " (2,\n",
              "  '0.711*\"ax\" + 0.052*\"max\" + 0.002*\"hz\" + 0.002*\"pl\" + 0.002*\"qax\" + 0.002*\"ei\" + 0.001*\"optional\" + 0.001*\"tm\" + 0.001*\"di_di\" + 0.001*\"qq\"'),\n",
              " (3,\n",
              "  '0.006*\"year\" + 0.006*\"state\" + 0.005*\"president\" + 0.005*\"program\" + 0.005*\"mr_stephanopoulos\" + 0.005*\"israel\" + 0.004*\"national\" + 0.004*\"armenian\" + 0.004*\"april\" + 0.004*\"american\"'),\n",
              " (4,\n",
              "  '0.041*\"drive\" + 0.012*\"jumper\" + 0.011*\"st\" + 0.011*\"scsi\" + 0.008*\"master\" + 0.008*\"slave\" + 0.007*\"ide\" + 0.006*\"mb\" + 0.006*\"single\" + 0.005*\"controller\"'),\n",
              " (5,\n",
              "  '0.010*\"would\" + 0.010*\"get\" + 0.009*\"one\" + 0.009*\"like\" + 0.008*\"dont\" + 0.006*\"know\" + 0.006*\"time\" + 0.006*\"good\" + 0.006*\"year\" + 0.006*\"think\"'),\n",
              " (6,\n",
              "  '0.009*\"window\" + 0.009*\"file\" + 0.009*\"use\" + 0.007*\"system\" + 0.007*\"program\" + 0.006*\"problem\" + 0.005*\"also\" + 0.005*\"card\" + 0.005*\"using\" + 0.005*\"one\"'),\n",
              " (7,\n",
              "  '0.017*\"key\" + 0.011*\"use\" + 0.008*\"system\" + 0.007*\"information\" + 0.006*\"data\" + 0.005*\"mail\" + 0.005*\"message\" + 0.005*\"chip\" + 0.005*\"public\" + 0.005*\"may\"'),\n",
              " (8,\n",
              "  '0.005*\"la\" + 0.004*\"cx\" + 0.004*\"lk\" + 0.004*\"van\" + 0.004*\"q\" + 0.004*\"mc\" + 0.004*\"sj\" + 0.004*\"det\" + 0.003*\"md\" + 0.003*\"tor\"'),\n",
              " (9,\n",
              "  '0.011*\"people\" + 0.010*\"one\" + 0.009*\"would\" + 0.007*\"god\" + 0.006*\"say\" + 0.005*\"dont\" + 0.005*\"u\" + 0.005*\"think\" + 0.005*\"know\" + 0.004*\"time\"')]"
            ]
          },
          "metadata": {},
          "execution_count": 99
        }
      ]
    },
    {
      "cell_type": "code",
      "metadata": {
        "colab": {
          "base_uri": "https://localhost:8080/"
        },
        "id": "6RQmx-MlJaiY",
        "outputId": "d763d7fb-16eb-4c05-81ec-cff6a5a8b9fe"
      },
      "source": [
        "optimal_model = model_list[6]\n",
        "model_topics = optimal_model.show_topics(formatted=False)\n",
        "optimal_model.print_topics(num_words=10)#Selecting Optimal Model and printing topics"
      ],
      "execution_count": 97,
      "outputs": [
        {
          "output_type": "execute_result",
          "data": {
            "text/plain": [
              "[(35,\n",
              "  '0.019*\"armenian\" + 0.006*\"turkey\" + 0.006*\"would\" + 0.005*\"turkish\" + 0.005*\"armenia\" + 0.005*\"one\" + 0.005*\"printer\" + 0.005*\"said\" + 0.004*\"card\" + 0.004*\"people\"'),\n",
              " (25,\n",
              "  '0.024*\"entry\" + 0.012*\"file\" + 0.010*\"program\" + 0.007*\"build\" + 0.007*\"character\" + 0.006*\"info\" + 0.006*\"line\" + 0.005*\"use\" + 0.005*\"must\" + 0.005*\"section\"'),\n",
              " (10,\n",
              "  '0.009*\"pem\" + 0.007*\"know\" + 0.006*\"like\" + 0.005*\"db_db\" + 0.005*\"one\" + 0.004*\"dont\" + 0.004*\"visual\" + 0.004*\"syndrome\" + 0.004*\"problem\" + 0.004*\"architecture\"'),\n",
              " (14,\n",
              "  '0.010*\"people\" + 0.008*\"government\" + 0.006*\"would\" + 0.005*\"one\" + 0.005*\"year\" + 0.005*\"time\" + 0.004*\"many\" + 0.003*\"american\" + 0.003*\"make\" + 0.003*\"greek\"'),\n",
              " (4,\n",
              "  '0.036*\"key\" + 0.016*\"v\" + 0.011*\"cal\" + 0.011*\"det\" + 0.010*\"space\" + 0.010*\"bos\" + 0.009*\"tor\" + 0.009*\"chi\" + 0.008*\"nasa\" + 0.007*\"nyi\"'),\n",
              " (30,\n",
              "  '0.007*\"use\" + 0.007*\"tax\" + 0.005*\"like\" + 0.005*\"one\" + 0.005*\"program\" + 0.004*\"technology\" + 0.004*\"new\" + 0.004*\"power\" + 0.004*\"system\" + 0.004*\"would\"'),\n",
              " (29,\n",
              "  '0.011*\"bike\" + 0.008*\"key\" + 0.006*\"law_enforcement\" + 0.005*\"one\" + 0.005*\"access\" + 0.005*\"get\" + 0.004*\"tube\" + 0.004*\"algorithm\" + 0.004*\"use\" + 0.004*\"would\"'),\n",
              " (27,\n",
              "  '0.012*\"captain\" + 0.006*\"traded\" + 0.005*\"phil\" + 0.004*\"alien\" + 0.004*\"one\" + 0.004*\"nowhere\" + 0.004*\"mercedes\" + 0.004*\"right\" + 0.003*\"star_trek\" + 0.003*\"paradox\"'),\n",
              " (17,\n",
              "  '0.010*\"data\" + 0.008*\"use\" + 0.008*\"mouse\" + 0.007*\"system\" + 0.006*\"problem\" + 0.006*\"modem\" + 0.006*\"one\" + 0.005*\"space\" + 0.004*\"get\" + 0.004*\"work\"'),\n",
              " (11,\n",
              "  '0.009*\"one\" + 0.007*\"science\" + 0.006*\"metal\" + 0.006*\"dod\" + 0.004*\"ride\" + 0.003*\"insulation\" + 0.003*\"like\" + 0.003*\"easter\" + 0.003*\"old\" + 0.003*\"sleeve\"'),\n",
              " (26,\n",
              "  '0.027*\"team\" + 0.024*\"game\" + 0.012*\"player\" + 0.011*\"year\" + 0.011*\"win\" + 0.010*\"season\" + 0.009*\"hockey\" + 0.007*\"play\" + 0.007*\"nhl\" + 0.006*\"goal\"'),\n",
              " (1,\n",
              "  '0.008*\"slot\" + 0.007*\"connector\" + 0.006*\"channel\" + 0.005*\"bo\" + 0.005*\"quicktime\" + 0.005*\"jumper\" + 0.005*\"pin\" + 0.005*\"db\" + 0.004*\"se\" + 0.004*\"st\"'),\n",
              " (19,\n",
              "  '0.008*\"cx\" + 0.007*\"q\" + 0.007*\"mc\" + 0.006*\"md\" + 0.006*\"gc\" + 0.006*\"hz\" + 0.006*\"cj\" + 0.005*\"zd\" + 0.005*\"lk\" + 0.005*\"id\"'),\n",
              " (15,\n",
              "  '0.011*\"package\" + 0.009*\"software\" + 0.009*\"application\" + 0.007*\"window\" + 0.006*\"cursor\" + 0.006*\"graphic\" + 0.006*\"color\" + 0.005*\"object\" + 0.005*\"get\" + 0.005*\"tool\"'),\n",
              " (20,\n",
              "  '0.010*\"key\" + 0.009*\"msg\" + 0.008*\"food\" + 0.007*\"get\" + 0.006*\"rsa\" + 0.005*\"use\" + 0.005*\"clipper\" + 0.005*\"one\" + 0.004*\"mechanic\" + 0.003*\"dont\"'),\n",
              " (3,\n",
              "  '0.021*\"god\" + 0.009*\"would\" + 0.008*\"jesus\" + 0.008*\"one\" + 0.006*\"people\" + 0.006*\"say\" + 0.006*\"u\" + 0.006*\"bible\" + 0.006*\"christian\" + 0.005*\"law\"'),\n",
              " (12,\n",
              "  '0.005*\"sun\" + 0.005*\"system\" + 0.004*\"available\" + 0.004*\"wiring\" + 0.004*\"use\" + 0.004*\"also\" + 0.004*\"widget\" + 0.004*\"version\" + 0.004*\"based\" + 0.004*\"code\"'),\n",
              " (16,\n",
              "  '0.017*\"cd\" + 0.014*\"sale\" + 0.010*\"price\" + 0.008*\"insurance\" + 0.006*\"one\" + 0.006*\"best_offer\" + 0.005*\"mm\" + 0.005*\"shipping\" + 0.004*\"arrest\" + 0.004*\"asking\"'),\n",
              " (8,\n",
              "  '0.013*\"year\" + 0.008*\"average\" + 0.008*\"duo\" + 0.007*\"last\" + 0.006*\"would\" + 0.006*\"good\" + 0.005*\"hitter\" + 0.005*\"base\" + 0.005*\"bmw\" + 0.005*\"inning\"'),\n",
              " (9,\n",
              "  '0.008*\"sy\" + 0.005*\"ozone\" + 0.005*\"file\" + 0.004*\"syx\" + 0.004*\"arabic\" + 0.004*\"ring\" + 0.004*\"hash\" + 0.004*\"echo\" + 0.003*\"adapted\" + 0.003*\"meter\"')]"
            ]
          },
          "metadata": {},
          "execution_count": 97
        }
      ]
    }
  ]
}